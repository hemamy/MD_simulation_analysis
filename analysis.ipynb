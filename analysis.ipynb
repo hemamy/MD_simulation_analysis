{
 "cells": [
  {
   "cell_type": "code",
   "execution_count": 1,
   "metadata": {},
   "outputs": [
    {
     "name": "stdout",
     "output_type": "stream",
     "text": [
      "(10, 21, 8000, 10) 10 21\n"
     ]
    }
   ],
   "source": [
    "#reading in file\n",
    "import glob\n",
    "import numpy as np\n",
    "#import pandas as pd\n",
    "import sys\n",
    "sys.path.insert(1, './')\n",
    "import functions\n",
    "\n",
    "filename = sorted(glob.glob(\"p0.0_n20_rcut2.5_T0.50_run1/run_??[1-2].dump\"))\n",
    "\n",
    "data, nlin, nlog, l_box, time = functions.read_lammps(filename)\n",
    "data = np.reshape(data, (nlin,nlog, data.shape[1], data.shape[2]))\n",
    "#removing the first conf from each loop\n",
    "data = data[:,1:,:,:]\n",
    "nlog = nlog -1\n",
    "print(data.shape, nlin, nlog)\n",
    "\n",
    "# ordeiing the ids of the particles\n",
    "for i in range(nlin):\n",
    "    for j in range(nlog):\n",
    "        data[i,j,:,:] = data[i,j,data[i,j,:,0].astype(int).argsort(),:]\n",
    "\n",
    "\n",
    "\n",
    "id_a, type_a, mol_a, pos_a, vel_a = data[:,:,:,0].astype(int), data[:,:,:,1].astype(int), data[:,:,:,2].astype(int), data[:,:,:,3:6].astype(float), data[:,:,:,6:9].astype(float)  \n",
    "pos_a = pos_a.astype(float)\n",
    "l_box = l_box.astype(float)\n",
    "#data_orig = data.copy()\n",
    "pos_a_orig = pos_a.copy()\n",
    "mol_a_orig = mol_a.copy()"
   ]
  },
  {
   "cell_type": "code",
   "execution_count": null,
   "metadata": {},
   "outputs": [],
   "source": [
    "# remove the COM drift\n",
    "pos_a = pos_a_orig.copy()\n",
    "mol_a = mol_a_orig.copy()\n",
    "pos_a = np.reshape(pos_a, (nlin*nlog, pos_a.shape[2], pos_a.shape[3]))\n",
    "pos_a = functions.removing_com_drift(pos_a,l_box[0,:])\n",
    "pos_a = np.reshape(pos_a, (nlin, nlog, pos_a.shape[1], pos_a.shape[2]))\n",
    "\n",
    "pos_a = np.reshape(pos_a, (nlin*nlog, pos_a.shape[2], pos_a.shape[3]))\n",
    "mol_a = np.reshape(mol_a, (nlin*nlog, mol_a.shape[2]))\n",
    "#calculating the gyration tensor and rg\n",
    "gyration = functions.gTensor(pos_a, l_box[0,:], mol_a)\n",
    "gyration = np.reshape(gyration, (gyration.shape[0]*gyration.shape[1], gyration.shape[2]))\n",
    "np.save(\"gyration_tensor\",gyration)\n",
    "gyration = np.load(\"gyration_tensor.npy\")\n",
    "rg_val, eigen_val, eigen_vec = functions.rg(gyration)\n",
    "np.save(\"rg\",rg_val)\n",
    "np.save(\"eigenval\",eigen_val)\n",
    "np.save(\"eigenvec\",eigen_vec)\n",
    "\n"
   ]
  },
  {
   "cell_type": "code",
   "execution_count": 3,
   "metadata": {},
   "outputs": [
    {
     "ename": "AttributeError",
     "evalue": "'tuple' object has no attribute 'shape'",
     "output_type": "error",
     "traceback": [
      "\u001b[0;31m---------------------------------------------------------------------------\u001b[0m",
      "\u001b[0;31mAttributeError\u001b[0m                            Traceback (most recent call last)",
      "\u001b[0;32m<ipython-input-3-870bd9a982a1>\u001b[0m in \u001b[0;36m<module>\u001b[0;34m\u001b[0m\n\u001b[0;32m----> 1\u001b[0;31m \u001b[0mprint\u001b[0m\u001b[0;34m(\u001b[0m\u001b[0mrg_val\u001b[0m\u001b[0;34m.\u001b[0m\u001b[0mshape\u001b[0m\u001b[0;34m)\u001b[0m\u001b[0;34m\u001b[0m\u001b[0;34m\u001b[0m\u001b[0m\n\u001b[0m",
      "\u001b[0;31mAttributeError\u001b[0m: 'tuple' object has no attribute 'shape'"
     ]
    }
   ],
   "source": [
    "print(rg_val.shape)"
   ]
  },
  {
   "cell_type": "code",
   "execution_count": null,
   "metadata": {},
   "outputs": [],
   "source": []
  }
 ],
 "metadata": {
  "kernelspec": {
   "display_name": "Python 3",
   "language": "python",
   "name": "python3"
  },
  "language_info": {
   "codemirror_mode": {
    "name": "ipython",
    "version": 3
   },
   "file_extension": ".py",
   "mimetype": "text/x-python",
   "name": "python",
   "nbconvert_exporter": "python",
   "pygments_lexer": "ipython3",
   "version": "3.8.5"
  }
 },
 "nbformat": 4,
 "nbformat_minor": 4
}
