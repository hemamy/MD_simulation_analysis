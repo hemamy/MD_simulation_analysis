{
 "cells": [
  {
   "cell_type": "code",
   "execution_count": null,
   "metadata": {},
   "outputs": [],
   "source": [
    "import glob\n",
    "import numpy as np\n",
    "import pandas as pd\n",
    "import sys\n",
    "from matplotlib import pyplot as plt\n",
    "sys.path.insert(1, './')\n",
    "import functions"
   ]
  },
  {
   "cell_type": "code",
   "execution_count": null,
   "metadata": {},
   "outputs": [],
   "source": [
    "#reading in file\n",
    "\n",
    "\n",
    "filename = sorted(glob.glob(\"p0.0_n20_rcut2.5_T0.50_run1/run_0[1-2]*.dump\"))\n",
    "\n",
    "data, nlin, nlog, l_box, time = functions.read_lammps(filename)\n",
    "data = np.reshape(data, (nlin,nlog, data.shape[1], data.shape[2]))\n",
    "#removing the first conf from each loop\n",
    "data = data[:,1:,:,:]\n",
    "nlog = nlog -1\n",
    "print(data.shape, nlin, nlog)\n",
    "\n",
    "# ordering the ids of the particles\n",
    "for i in range(nlin):\n",
    "    for j in range(nlog):\n",
    "        data[i,j,:,:] = data[i,j,data[i,j,:,0].astype(int).argsort(),:]\n",
    "\n",
    "id_a, type_a, mol_a, pos_a, vel_a = data[:,:,:,0].astype(int), data[:,:,:,1].astype(int), data[:,:,:,2].astype(int), data[:,:,:,3:6].astype(float), data[:,:,:,6:9].astype(float)  \n",
    "del data\n",
    "pos_a = pos_a.astype(float)\n",
    "l_box = l_box.astype(float)\n",
    "\n",
    "#pos_a = np.reshape(pos_a, (nlin*nlog, pos_a.shape[2], pos_a.shape[3]))\n",
    "pos_a_orig = pos_a.copy()\n",
    "mol_a_orig = mol_a.copy()\n"
   ]
  },
  {
   "cell_type": "code",
   "execution_count": null,
   "metadata": {},
   "outputs": [],
   "source": [
    "# remove the COM drift\n",
    "pos_a = pos_a_orig.copy()\n",
    "mol_a = mol_a_orig.copy()\n",
    "\n",
    "print(pos_a.shape)\n",
    "pos_a = functions.unwrap_pos(pos_a,l_box[0,:])\n",
    "print(pos_a.shape)\n",
    "\n",
    "\n",
    "\n",
    "#test the drift code by adding artifitial drift\n",
    "if (len(pos_a.shape)==4):\n",
    "    pos_a = np.reshape(pos_a, (nlin*nlog, pos_a.shape[2], pos_a.shape[3]))\n",
    "pid = 1\n",
    "# plot the position before drift\n",
    "plt.plot(pos_a[:,pid,1])\n",
    "\n",
    "#create the drift\n",
    "drift = np.arange(0.,2.,2./420.)\n",
    "drift = np.expand_dims(drift, axis=1)\n",
    "drift = np.expand_dims(drift, axis=1)\n",
    "print(drift.shape)\n",
    "# add drift\n",
    "pos_a[:,:,1] = pos_a[:,:,1] + drift[:,:,0] \n",
    "\n",
    "pid = 1\n",
    "# plot the position after drift\n",
    "plt.plot(pos_a[:,pid,1])\n",
    "      \n",
    "      \n",
    "pos_a = functions.removing_com_drift(pos_a,l_box[0,:])\n",
    "pos_a = np.reshape(pos_a, (nlin, nlog, pos_a.shape[1], pos_a.shape[2]))\n",
    "\n",
    "pos_a = np.reshape(pos_a, (nlin*nlog, pos_a.shape[2], pos_a.shape[3]))\n",
    "mol_a = np.reshape(mol_a, (nlin*nlog, mol_a.shape[2]))\n",
    "\n",
    "pid = 1\n",
    "# plot the position after fixing the drift\n",
    "plt.plot(pos_a[:,pid,1])\n",
    "#plt.plot(pos_a[:,pid,0], pos_a[:,pid,1])\n"
   ]
  },
  {
   "cell_type": "code",
   "execution_count": null,
   "metadata": {},
   "outputs": [],
   "source": [
    "#calculating the gyration tensor and rg\n",
    "gyration = functions.gTensor(pos_a, l_box[0,:], mol_a)\n",
    "gyration = np.reshape(gyration, (gyration.shape[0]*gyration.shape[1], gyration.shape[2]))\n",
    "np.save(\"gyration_tensor\",gyration)\n",
    "gyration = np.load(\"gyration_tensor.npy\")\n",
    "rg_val, eigen_val, eigen_vec = functions.rg(gyration)\n",
    "np.save(\"rg\",rg_val)\n",
    "np.save(\"eigenval\",eigen_val)\n",
    "np.save(\"eigenvec\",eigen_vec)\n"
   ]
  },
  {
   "cell_type": "code",
   "execution_count": null,
   "metadata": {},
   "outputs": [],
   "source": [
    "# calculate translational MSD\n",
    "pos_a = np.reshape(pos_a, (nlin, nlog, pos_a.shape[1], pos_a.shape[2]))\n",
    "\n",
    "print(np.array(time).shape)\n",
    "log_space = 2. # the base for the log scpaced time log_space^n\n",
    "msd_log, alpha2_log, msd_time_log = functions.msd_log(pos_a,l_box[0,:],log_space)\n",
    "msd_lin, alpha2_lin, msd_time_lin = functions.msd_lin(pos_a,l_box[0,:],log_space)\n",
    "\n",
    "\n"
   ]
  },
  {
   "cell_type": "code",
   "execution_count": null,
   "metadata": {},
   "outputs": [],
   "source": [
    "from matplotlib import pyplot as plt\n",
    "\n",
    "print(msd_log.shape, msd_lin.shape)\n",
    "msd = np.concatenate((msd_log, msd_lin), axis=0)\n",
    "msd_time = np.concatenate((msd_time_log, msd_time_lin), axis=0)\n",
    "plt.plot(msd_time,msd, marker=\"o\")\n",
    "plt.xscale(\"log\"); plt.yscale(\"log\")\n",
    "msd = np.transpose(np.vstack((msd_time, msd)))\n",
    "df = pd.DataFrame(msd)\n",
    "df.columns=[\"time\", \"msd\"]\n",
    "df.to_pickle(\"msd\")\n",
    "np.save(\"msd\", msd)\n",
    "\n"
   ]
  },
  {
   "cell_type": "code",
   "execution_count": null,
   "metadata": {},
   "outputs": [],
   "source": [
    "# calculating the fqt_self\n",
    "\n",
    "\n",
    "\n"
   ]
  },
  {
   "cell_type": "code",
   "execution_count": null,
   "metadata": {},
   "outputs": [],
   "source": [
    "print(pos_a.shape)\n"
   ]
  },
  {
   "cell_type": "code",
   "execution_count": null,
   "metadata": {},
   "outputs": [],
   "source": []
  }
 ],
 "metadata": {
  "kernelspec": {
   "display_name": "Python 3 (ipykernel)",
   "language": "python",
   "name": "python3"
  },
  "language_info": {
   "codemirror_mode": {
    "name": "ipython",
    "version": 3
   },
   "file_extension": ".py",
   "mimetype": "text/x-python",
   "name": "python",
   "nbconvert_exporter": "python",
   "pygments_lexer": "ipython3",
   "version": "3.10.5"
  }
 },
 "nbformat": 4,
 "nbformat_minor": 4
}
